{
  "nbformat": 4,
  "nbformat_minor": 0,
  "metadata": {
    "colab": {
      "provenance": []
    },
    "kernelspec": {
      "name": "python3",
      "display_name": "Python 3"
    },
    "language_info": {
      "name": "python"
    }
  },
  "cells": [
    {
      "cell_type": "markdown",
      "source": [
        "[![Open in Colab](https://colab.research.google.com/assets/colab-badge.svg)](https://colab.research.google.com/github/your_username/your_repo/blob/main/your_notebook.ipynb)"
      ],
      "metadata": {}
    },
    {
      "cell_type": "code",
      "execution_count": null,
      "metadata": {
        "colab": {
          "base_uri": "https://localhost:8080/"
        },
        "id": "Oj16aYJA_8Kf",
        "outputId": "070cadca-9c42-4fa8-aa40-3bcf203edde6"
      },
      "outputs": [
        {
          "output_type": "stream",
          "name": "stdout",
          "text": [
            "Collecting langgraph_sdk\n",
            "  Downloading langgraph_sdk-0.1.36-py3-none-any.whl.metadata (1.8 kB)\n",
            "Requirement already satisfied: httpx>=0.25.2 in /usr/local/lib/python3.10/dist-packages (from langgraph_sdk) (0.27.2)\n",
            "Collecting httpx-sse>=0.4.0 (from langgraph_sdk)\n",
            "  Downloading httpx_sse-0.4.0-py3-none-any.whl.metadata (9.0 kB)\n",
            "Requirement already satisfied: orjson>=3.10.1 in /usr/local/lib/python3.10/dist-packages (from langgraph_sdk) (3.10.11)\n",
            "Requirement already satisfied: anyio in /usr/local/lib/python3.10/dist-packages (from httpx>=0.25.2->langgraph_sdk) (3.7.1)\n",
            "Requirement already satisfied: certifi in /usr/local/lib/python3.10/dist-packages (from httpx>=0.25.2->langgraph_sdk) (2024.8.30)\n",
            "Requirement already satisfied: httpcore==1.* in /usr/local/lib/python3.10/dist-packages (from httpx>=0.25.2->langgraph_sdk) (1.0.7)\n",
            "Requirement already satisfied: idna in /usr/local/lib/python3.10/dist-packages (from httpx>=0.25.2->langgraph_sdk) (3.10)\n",
            "Requirement already satisfied: sniffio in /usr/local/lib/python3.10/dist-packages (from httpx>=0.25.2->langgraph_sdk) (1.3.1)\n",
            "Requirement already satisfied: h11<0.15,>=0.13 in /usr/local/lib/python3.10/dist-packages (from httpcore==1.*->httpx>=0.25.2->langgraph_sdk) (0.14.0)\n",
            "Requirement already satisfied: exceptiongroup in /usr/local/lib/python3.10/dist-packages (from anyio->httpx>=0.25.2->langgraph_sdk) (1.2.2)\n",
            "Downloading langgraph_sdk-0.1.36-py3-none-any.whl (29 kB)\n",
            "Downloading httpx_sse-0.4.0-py3-none-any.whl (7.8 kB)\n",
            "Installing collected packages: httpx-sse, langgraph_sdk\n",
            "Successfully installed httpx-sse-0.4.0 langgraph_sdk-0.1.36\n"
          ]
        }
      ],
      "source": [
        "!pip install langgraph_sdk"
      ]
    },
    {
      "cell_type": "code",
      "source": [
        "from langgraph_sdk import get_client\n",
        "import os\n",
        "\n",
        "os.environ['LANGGRAPH_API_KEY'] = 'YOUR_LANGGRAPH_API_KEY'\n",
        "\n",
        "client = get_client(url='LANGGRAPH_DEPLOYMENT_URL')\n",
        "# Using the graph deployed with the name \"agent\"\n",
        "assistant_id = \"LANGGRAPH_NAME\"\n",
        "# create thread\n",
        "thread = await client.threads.create()\n",
        "print(thread)"
      ],
      "metadata": {
        "id": "WQU5WBVA__gK"
      },
      "execution_count": null,
      "outputs": []
    },
    {
      "cell_type": "markdown",
      "source": [
        "## Input the State Variables for your Graph\n"
      ],
      "metadata": {
        "id": "rFm2WQfArElU"
      }
    },
    {
      "cell_type": "code",
      "source": [
        "input = {\n",
        "    \"messages\": [{\"role\": \"user\", \"content\": \"what's this repo about?\"}]\n",
        "    # Other inputs here:\n",
        "    # \"name\": \"value\",\n",
        "}\n",
        "\n",
        "# change/remove this if needed\n",
        "config = {\n",
        "    \"configurable\": {\"model_name\": \"openai\"}\n",
        "}\n",
        "\n",
        "async for chunk in client.runs.stream(\n",
        "    thread[\"thread_id\"],\n",
        "    assistant_id=assistant_id,\n",
        "    input=input,\n",
        "    config=config,\n",
        "    stream_mode=\"messages-tuple\",\n",
        "):\n",
        "    print(f\"Receiving new event of type: {chunk.event}...\")\n",
        "    print(chunk.data)\n",
        "    print(\"\\n\\n\")\n"
      ],
      "metadata": {
        "id": "j_ADDOQlBv4I"
      },
      "execution_count": null,
      "outputs": []
    }
  ]
}
